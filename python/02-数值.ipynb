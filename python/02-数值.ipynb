{
 "cells": [
  {
   "cell_type": "markdown",
   "metadata": {},
   "source": [
    "# 数值运算"
   ]
  },
  {
   "cell_type": "markdown",
   "metadata": {},
   "source": [
    "### 基本运算"
   ]
  },
  {
   "cell_type": "code",
   "execution_count": 1,
   "metadata": {},
   "outputs": [
    {
     "name": "stdout",
     "output_type": "stream",
     "text": [
      "2\n",
      "2\n",
      "6\n",
      "3.3333333333333335\n",
      "1\n",
      "8\n"
     ]
    }
   ],
   "source": [
    "print(1 + 1)\n",
    "print(3 - 1)\n",
    "print(2 * 3)\n",
    "print(10 / 3)\n",
    "print(10 % 3)\n",
    "print(2 ** 3)"
   ]
  },
  {
   "cell_type": "markdown",
   "metadata": {},
   "source": [
    "### 数据类型"
   ]
  },
  {
   "cell_type": "code",
   "execution_count": 2,
   "metadata": {},
   "outputs": [
    {
     "name": "stdout",
     "output_type": "stream",
     "text": [
      "<class 'int'>\n",
      "<class 'float'>\n",
      "<class 'str'>\n",
      "<class 'bool'>\n"
     ]
    }
   ],
   "source": [
    "a = 1\n",
    "print(type(a))\n",
    "\n",
    "b = 1.5;\n",
    "print(type(b))\n",
    "\n",
    "my_str = 'abc'\n",
    "print(type(my_str))\n",
    "\n",
    "enable = True\n",
    "print(type(enable))"
   ]
  },
  {
   "cell_type": "markdown",
   "metadata": {},
   "source": [
    "### 类型转换"
   ]
  },
  {
   "cell_type": "code",
   "execution_count": 15,
   "metadata": {},
   "outputs": [
    {
     "name": "stdout",
     "output_type": "stream",
     "text": [
      "1\n",
      "1.0\n",
      "123\n",
      "<class 'str'>\n"
     ]
    }
   ],
   "source": [
    "c = 1.6\n",
    "d = int(c)\n",
    "print(d)\n",
    "\n",
    "c = float(d)\n",
    "print(c)\n",
    "\n",
    "e = '123'\n",
    "f = int(e);\n",
    "print(f)\n",
    "\n",
    "g = str(f)\n",
    "print(type(g))"
   ]
  },
  {
   "cell_type": "markdown",
   "metadata": {},
   "source": [
    "### 数据操作"
   ]
  },
  {
   "cell_type": "code",
   "execution_count": 2,
   "metadata": {},
   "outputs": [
    {
     "name": "stdout",
     "output_type": "stream",
     "text": [
      "4\n",
      "16\n",
      "1\n",
      "6\n"
     ]
    }
   ],
   "source": [
    "h = abs(-4)\n",
    "print(h)\n",
    "\n",
    "i = round(15.6)\n",
    "print(i)\n",
    "\n",
    "j = min(1, 2, 3)\n",
    "print(j)\n",
    "\n",
    "k = max(4, 2, 6)\n",
    "print(k)"
   ]
  },
  {
   "cell_type": "code",
   "execution_count": null,
   "metadata": {},
   "outputs": [],
   "source": []
  }
 ],
 "metadata": {
  "kernelspec": {
   "display_name": "Python 3",
   "language": "python",
   "name": "python3"
  },
  "language_info": {
   "codemirror_mode": {
    "name": "ipython",
    "version": 3
   },
   "file_extension": ".py",
   "mimetype": "text/x-python",
   "name": "python",
   "nbconvert_exporter": "python",
   "pygments_lexer": "ipython3",
   "version": "3.7.6"
  }
 },
 "nbformat": 4,
 "nbformat_minor": 2
}

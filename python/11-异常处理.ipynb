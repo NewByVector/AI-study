{
 "cells": [
  {
   "cell_type": "markdown",
   "metadata": {},
   "source": [
    "# 异常处理"
   ]
  },
  {
   "cell_type": "markdown",
   "metadata": {},
   "source": [
    "### 捕获异常"
   ]
  },
  {
   "cell_type": "code",
   "execution_count": 1,
   "metadata": {},
   "outputs": [
    {
     "name": "stdout",
     "output_type": "stream",
     "text": [
      "division is 0\n",
      "finally\n"
     ]
    }
   ],
   "source": [
    "try:\n",
    "    1 / 0\n",
    "except ZeroDivisionError:\n",
    "    print('division is 0')\n",
    "except Exception:\n",
    "    print('unknown error')\n",
    "finally:\n",
    "    print('finally')"
   ]
  },
  {
   "cell_type": "markdown",
   "metadata": {},
   "source": [
    "### 抛出异常"
   ]
  },
  {
   "cell_type": "code",
   "execution_count": 2,
   "metadata": {},
   "outputs": [
    {
     "ename": "ValueError",
     "evalue": "",
     "output_type": "error",
     "traceback": [
      "\u001b[0;31m---------------------------------------------------------------------------\u001b[0m",
      "\u001b[0;31mValueError\u001b[0m                                Traceback (most recent call last)",
      "\u001b[1;32m/Users/wenyu/vector/code/AI-study/python/11-异常处理.ipynb 单元格 5\u001b[0m line \u001b[0;36m5\n\u001b[1;32m      <a href='vscode-notebook-cell:/Users/wenyu/vector/code/AI-study/python/11-%E5%BC%82%E5%B8%B8%E5%A4%84%E7%90%86.ipynb#W4sZmlsZQ%3D%3D?line=2'>3</a>\u001b[0m         \u001b[39mraise\u001b[39;00m \u001b[39mValueError\u001b[39;00m\n\u001b[1;32m      <a href='vscode-notebook-cell:/Users/wenyu/vector/code/AI-study/python/11-%E5%BC%82%E5%B8%B8%E5%A4%84%E7%90%86.ipynb#W4sZmlsZQ%3D%3D?line=3'>4</a>\u001b[0m     \u001b[39mreturn\u001b[39;00m a \u001b[39m/\u001b[39m b\n\u001b[0;32m----> <a href='vscode-notebook-cell:/Users/wenyu/vector/code/AI-study/python/11-%E5%BC%82%E5%B8%B8%E5%A4%84%E7%90%86.ipynb#W4sZmlsZQ%3D%3D?line=4'>5</a>\u001b[0m division(\u001b[39m3\u001b[39;49m, \u001b[39m1\u001b[39;49m)\n",
      "\u001b[1;32m/Users/wenyu/vector/code/AI-study/python/11-异常处理.ipynb 单元格 5\u001b[0m line \u001b[0;36m3\n\u001b[1;32m      <a href='vscode-notebook-cell:/Users/wenyu/vector/code/AI-study/python/11-%E5%BC%82%E5%B8%B8%E5%A4%84%E7%90%86.ipynb#W4sZmlsZQ%3D%3D?line=0'>1</a>\u001b[0m \u001b[39mdef\u001b[39;00m \u001b[39mdivision\u001b[39m(a, b):\n\u001b[1;32m      <a href='vscode-notebook-cell:/Users/wenyu/vector/code/AI-study/python/11-%E5%BC%82%E5%B8%B8%E5%A4%84%E7%90%86.ipynb#W4sZmlsZQ%3D%3D?line=1'>2</a>\u001b[0m     \u001b[39mif\u001b[39;00m (b \u001b[39m==\u001b[39m \u001b[39m1\u001b[39m):\n\u001b[0;32m----> <a href='vscode-notebook-cell:/Users/wenyu/vector/code/AI-study/python/11-%E5%BC%82%E5%B8%B8%E5%A4%84%E7%90%86.ipynb#W4sZmlsZQ%3D%3D?line=2'>3</a>\u001b[0m         \u001b[39mraise\u001b[39;00m \u001b[39mValueError\u001b[39;00m\n\u001b[1;32m      <a href='vscode-notebook-cell:/Users/wenyu/vector/code/AI-study/python/11-%E5%BC%82%E5%B8%B8%E5%A4%84%E7%90%86.ipynb#W4sZmlsZQ%3D%3D?line=3'>4</a>\u001b[0m     \u001b[39mreturn\u001b[39;00m a \u001b[39m/\u001b[39m b\n",
      "\u001b[0;31mValueError\u001b[0m: "
     ]
    }
   ],
   "source": [
    "def division(a, b):\n",
    "    if (b == 1):\n",
    "        raise ValueError\n",
    "    return a / b\n",
    "division(3, 1)"
   ]
  },
  {
   "cell_type": "code",
   "execution_count": null,
   "metadata": {},
   "outputs": [],
   "source": []
  }
 ],
 "metadata": {
  "kernelspec": {
   "display_name": "Python 3",
   "language": "python",
   "name": "python3"
  },
  "language_info": {
   "codemirror_mode": {
    "name": "ipython",
    "version": 3
   },
   "file_extension": ".py",
   "mimetype": "text/x-python",
   "name": "python",
   "nbconvert_exporter": "python",
   "pygments_lexer": "ipython3",
   "version": "3.8.17"
  }
 },
 "nbformat": 4,
 "nbformat_minor": 2
}

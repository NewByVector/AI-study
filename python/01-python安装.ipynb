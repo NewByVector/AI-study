{
 "cells": [
  {
   "cell_type": "markdown",
   "metadata": {},
   "source": [
    "# Python安装\n",
    "1. anaconda官网：https://www.anaconda.com/distribution/\n",
    "2. 通过pip install xgbost安装新的库\n",
    "3. 非官方python库下载地址：https://www.lfd.uci.edu/~gohlke/pythonlibs/#xgboost ，下载whl文件后，可以通过pip install xx.whl进行本地安\n",
    "4. 修改jupyter的默认位置\n",
    "    - 在Anaconda Prompt中执行jupyter notebook --generate-config\n",
    "    - 在生成的配置文件中修改c.NotebookApp.notebook_dir\n",
    "    - (windows)找到Jupyter的快捷方式，右键打开属性，将快捷方式“目标”中的%USERPROFILE%去掉\n"
   ]
  },
  {
   "cell_type": "code",
   "execution_count": null,
   "metadata": {},
   "outputs": [],
   "source": []
  }
 ],
 "metadata": {
  "kernelspec": {
   "display_name": "Python 3",
   "language": "python",
   "name": "python3"
  },
  "language_info": {
   "codemirror_mode": {
    "name": "ipython",
    "version": 3
   },
   "file_extension": ".py",
   "mimetype": "text/x-python",
   "name": "python",
   "nbconvert_exporter": "python",
   "pygments_lexer": "ipython3",
   "version": "3.7.6"
  }
 },
 "nbformat": 4,
 "nbformat_minor": 2
}

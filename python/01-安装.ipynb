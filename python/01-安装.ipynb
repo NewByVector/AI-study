{
 "cells": [
  {
   "cell_type": "markdown",
   "metadata": {},
   "source": [
    "# 安装\n",
    "1. anaconda 官网：https://www.anaconda.com/distribution/\n",
    "2. 通过 pip install xxx 安装新的库\n",
    "3. 非官方 python 库下载地址：https://www.lfd.uci.edu/~gohlke/pythonlibs/#xgboost ，下载whl文件后，可以通过 pip install xx.whl 进行本地安装\n",
    "4. 修改 jupyter 的默认位置\n",
    "    - 在 Anaconda Prompt 中执行 jupyter notebook --generate-config\n",
    "    - 在生成的配置文件中修改 c.NotebookApp.notebook_dir\n",
    "    - (windows) 找到 jupyter 的快捷方式，右键打开属性，将快捷方式“目标”中的 %USERPROFILE% 去掉\n"
   ]
  }
 ],
 "metadata": {
  "kernelspec": {
   "display_name": "Python 3 (ipykernel)",
   "language": "python",
   "name": "python3"
  },
  "language_info": {
   "codemirror_mode": {
    "name": "ipython",
    "version": 3
   },
   "file_extension": ".py",
   "mimetype": "text/x-python",
   "name": "python",
   "nbconvert_exporter": "python",
   "pygments_lexer": "ipython3",
   "version": "3.11.3"
  }
 },
 "nbformat": 4,
 "nbformat_minor": 2
}

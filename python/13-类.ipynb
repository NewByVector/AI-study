{
 "cells": [
  {
   "cell_type": "markdown",
   "metadata": {},
   "source": [
    "# 类"
   ]
  },
  {
   "cell_type": "markdown",
   "metadata": {},
   "source": [
    "### 定义"
   ]
  },
  {
   "cell_type": "code",
   "execution_count": 19,
   "metadata": {},
   "outputs": [
    {
     "name": "stdout",
     "output_type": "stream",
     "text": [
      "vector\n",
      "27\n",
      "人物的类\n"
     ]
    }
   ],
   "source": [
    "class people:\n",
    "    '人物的类'\n",
    "    def __init__(self, name, age):\n",
    "        self.name = name\n",
    "        self.age = age\n",
    "    def get_name(self):\n",
    "        return self.name\n",
    "    def get_age(self):\n",
    "        return self.age\n",
    "p1 = people('vector', 27)\n",
    "print(p1.name)\n",
    "print(p1.get_age())\n",
    "print(p1.__doc__)"
   ]
  },
  {
   "cell_type": "markdown",
   "metadata": {},
   "source": [
    "### 属性操作"
   ]
  },
  {
   "cell_type": "code",
   "execution_count": 20,
   "metadata": {},
   "outputs": [
    {
     "name": "stdout",
     "output_type": "stream",
     "text": [
      "True\n",
      "vector\n",
      "None\n",
      "vector2\n",
      "None\n"
     ]
    }
   ],
   "source": [
    "print(hasattr(p1, 'name'))\n",
    "print(getattr(p1, 'name'))\n",
    "print(setattr(p1, 'name', 'vector2'))\n",
    "print(getattr(p1, 'name'))\n",
    "print(delattr(p1, 'age'))"
   ]
  },
  {
   "cell_type": "markdown",
   "metadata": {},
   "source": [
    "### 继承"
   ]
  },
  {
   "cell_type": "code",
   "execution_count": 23,
   "metadata": {},
   "outputs": [
    {
     "name": "stdout",
     "output_type": "stream",
     "text": [
      "调用子类的构造函数\n",
      "调用子类的方法\n",
      "调用父类的方法\n",
      "覆盖父类的方法\n"
     ]
    }
   ],
   "source": [
    "class Animal:\n",
    "    def __init__(self, name, age):\n",
    "        self.name = name\n",
    "        self.age = age\n",
    "        print('调用父类的构造函数')\n",
    "    def parentMethod(self):\n",
    "        print('调用父类的方法')\n",
    "    def overrideMethod(self):\n",
    "        print('父类的orderride方法')\n",
    "class Cat(Animal):\n",
    "    def __init__(self, name, age, color):\n",
    "        self.name = name\n",
    "        self.age = age\n",
    "        self.color = color\n",
    "        print('调用子类的构造函数')\n",
    "    def childMethod(self):\n",
    "        print('调用子类的方法')\n",
    "    def overrideMethod(self):\n",
    "        print('覆盖父类的方法')\n",
    "        \n",
    "c = Cat('vector', 27, 'blue')\n",
    "c.childMethod()\n",
    "c.parentMethod()\n",
    "c.overrideMethod()"
   ]
  },
  {
   "cell_type": "code",
   "execution_count": null,
   "metadata": {},
   "outputs": [],
   "source": []
  }
 ],
 "metadata": {
  "kernelspec": {
   "display_name": "Python 3",
   "language": "python",
   "name": "python3"
  },
  "language_info": {
   "codemirror_mode": {
    "name": "ipython",
    "version": 3
   },
   "file_extension": ".py",
   "mimetype": "text/x-python",
   "name": "python",
   "nbconvert_exporter": "python",
   "pygments_lexer": "ipython3",
   "version": "3.7.4"
  }
 },
 "nbformat": 4,
 "nbformat_minor": 2
}

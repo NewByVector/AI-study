{
 "cells": [
  {
   "cell_type": "markdown",
   "metadata": {},
   "source": [
    "# 条件语句"
   ]
  },
  {
   "cell_type": "code",
   "execution_count": 17,
   "metadata": {},
   "outputs": [
    {
     "name": "stdout",
     "output_type": "stream",
     "text": [
      ">50\n"
     ]
    }
   ],
   "source": [
    "flag = 100\n",
    "if flag > 200:\n",
    "    print('>200')\n",
    "elif flag > 50:\n",
    "    print('>50')\n",
    "else:\n",
    "    print('<50')"
   ]
  },
  {
   "cell_type": "markdown",
   "metadata": {},
   "source": [
    "# 循环语句"
   ]
  },
  {
   "cell_type": "code",
   "execution_count": 18,
   "metadata": {},
   "outputs": [
    {
     "name": "stdout",
     "output_type": "stream",
     "text": [
      "1\n",
      "3\n",
      "4\n"
     ]
    }
   ],
   "source": [
    "s = {1, 3, 4}\n",
    "for key in s:\n",
    "    print(key)"
   ]
  },
  {
   "cell_type": "code",
   "execution_count": 19,
   "metadata": {},
   "outputs": [
    {
     "name": "stdout",
     "output_type": "stream",
     "text": [
      "4\n",
      "2\n",
      "3\n",
      "12\n",
      "323\n",
      "22\n"
     ]
    }
   ],
   "source": [
    "s = [4, 2, 3]\n",
    "for item in s:\n",
    "    print(item)\n",
    "    \n",
    "s = [12, 323, 22]\n",
    "for i in range(3):\n",
    "    print(s[i])"
   ]
  },
  {
   "cell_type": "code",
   "execution_count": 20,
   "metadata": {},
   "outputs": [
    {
     "name": "stdout",
     "output_type": "stream",
     "text": [
      "name:vector\n",
      "age:27\n",
      "name:vector\n",
      "age:27\n"
     ]
    }
   ],
   "source": [
    "s = {'name': 'vector', 'age': 27}\n",
    "for key in s:\n",
    "    print(key + ':' + str(s[key]))\n",
    "\n",
    "for k,v in s.items():\n",
    "    print(k + ':' + str(v))"
   ]
  }
 ],
 "metadata": {
  "kernelspec": {
   "display_name": "Python 3",
   "language": "python",
   "name": "python3"
  },
  "language_info": {
   "codemirror_mode": {
    "name": "ipython",
    "version": 3
   },
   "file_extension": ".py",
   "mimetype": "text/x-python",
   "name": "python",
   "nbconvert_exporter": "python",
   "pygments_lexer": "ipython3",
   "version": "3.8.17"
  }
 },
 "nbformat": 4,
 "nbformat_minor": 2
}

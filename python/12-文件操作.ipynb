{
 "cells": [
  {
   "cell_type": "markdown",
   "metadata": {},
   "source": [
    "# 文件操作"
   ]
  },
  {
   "cell_type": "code",
   "execution_count": 1,
   "metadata": {},
   "outputs": [
    {
     "name": "stdout",
     "output_type": "stream",
     "text": [
      "Writing ./data/test.txt\n"
     ]
    }
   ],
   "source": [
    "%%writefile ./data/test.txt\n",
    "1111\n",
    "2222\n",
    "3333\n",
    "4444"
   ]
  },
  {
   "cell_type": "markdown",
   "metadata": {},
   "source": [
    "### 文件读取"
   ]
  },
  {
   "cell_type": "code",
   "execution_count": 7,
   "metadata": {},
   "outputs": [
    {
     "name": "stdout",
     "output_type": "stream",
     "text": [
      "<_io.TextIOWrapper name='./data/test.txt' mode='r' encoding='cp936'>\n",
      "1111\n",
      "2222\n",
      "3333\n",
      "4444\n",
      "\n",
      "['1111\\n', '2222\\n', '3333\\n', '4444\\n']\n"
     ]
    }
   ],
   "source": [
    "file = open('./data/test.txt')\n",
    "print(file)\n",
    "txt = file.read();\n",
    "print(txt)\n",
    "file.close()\n",
    "\n",
    "file = open('./data/test.txt')\n",
    "lines = file.readlines();\n",
    "print(lines)\n",
    "file.close()"
   ]
  },
  {
   "cell_type": "markdown",
   "metadata": {},
   "source": [
    "### 文件写入"
   ]
  },
  {
   "cell_type": "code",
   "execution_count": 11,
   "metadata": {},
   "outputs": [],
   "source": [
    "file = open('./data/test_write.txt', 'w') ## w每次都会覆盖之前文件\n",
    "file.write('1111');\n",
    "file.write('\\n');\n",
    "file.write('2222');\n",
    "file.close()\n",
    "\n",
    "file = open('./data/test_write.txt', 'a') ## a在原来文件追加内容\n",
    "file.write('\\n');\n",
    "file.write('3333')\n",
    "file.close()"
   ]
  },
  {
   "cell_type": "code",
   "execution_count": 12,
   "metadata": {},
   "outputs": [],
   "source": [
    "## write的时候记得要close\n",
    "## 常用模式是try catch finally\n",
    "## 也可以用with\n",
    "with open('./data/test_write.txt', 'w') as f:\n",
    "    f.write('with operation!')"
   ]
  },
  {
   "cell_type": "code",
   "execution_count": null,
   "metadata": {},
   "outputs": [],
   "source": []
  }
 ],
 "metadata": {
  "kernelspec": {
   "display_name": "Python 3",
   "language": "python",
   "name": "python3"
  },
  "language_info": {
   "codemirror_mode": {
    "name": "ipython",
    "version": 3
   },
   "file_extension": ".py",
   "mimetype": "text/x-python",
   "name": "python",
   "nbconvert_exporter": "python",
   "pygments_lexer": "ipython3",
   "version": "3.7.6"
  }
 },
 "nbformat": 4,
 "nbformat_minor": 2
}
